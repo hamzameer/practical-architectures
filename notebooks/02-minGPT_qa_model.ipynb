{
 "cells": [
  {
   "cell_type": "code",
   "execution_count": 1,
   "id": "093ee937-f65f-4ef7-b175-2fffc165b371",
   "metadata": {
    "tags": []
   },
   "outputs": [
    {
     "name": "stderr",
     "output_type": "stream",
     "text": [
      "/Users/michael/miniconda3/envs/mingpttutorial/lib/python3.9/site-packages/tqdm/auto.py:21: TqdmWarning: IProgress not found. Please update jupyter and ipywidgets. See https://ipywidgets.readthedocs.io/en/stable/user_install.html\n",
      "  from .autonotebook import tqdm as notebook_tqdm\n"
     ]
    }
   ],
   "source": [
    "from datasets import load_dataset, load_dataset_builder, get_dataset_split_names"
   ]
  },
  {
   "cell_type": "code",
   "execution_count": 2,
   "id": "324c33e4-d23b-44ee-a8f0-3ece5aa34489",
   "metadata": {
    "tags": []
   },
   "outputs": [],
   "source": [
    "DATASET_NAME = \"bigbio/med_qa\"\n",
    "DATASET_CONFIG = \"med_qa_en_source\"\n",
    "ds_builder = load_dataset_builder(DATASET_NAME,DATASET_CONFIG)"
   ]
  },
  {
   "cell_type": "code",
   "execution_count": 3,
   "id": "10bcd705-f928-4b5a-84b3-f7775b4067e1",
   "metadata": {
    "tags": []
   },
   "outputs": [
    {
     "name": "stdout",
     "output_type": "stream",
     "text": [
      "In this work, we present the first free-form multiple-choice OpenQA dataset for solving medical problems, MedQA,\n",
      "collected from the professional medical board exams. It covers three languages: English, simplified Chinese, and\n",
      "traditional Chinese, and contains 12,723, 34,251, and 14,123 questions for the three languages, respectively. Together\n",
      "with the question data, we also collect and release a large-scale corpus from medical textbooks from which the reading\n",
      "comprehension models can obtain necessary knowledge for answering the questions.\n",
      "\n"
     ]
    }
   ],
   "source": [
    "print(ds_builder.info.description)"
   ]
  },
  {
   "cell_type": "code",
   "execution_count": 4,
   "id": "03a06609-a5cd-40f1-a36e-0977e58c9c8d",
   "metadata": {
    "tags": []
   },
   "outputs": [
    {
     "name": "stderr",
     "output_type": "stream",
     "text": [
      "Found cached dataset med_qa (/Users/michael/.cache/huggingface/datasets/bigbio___med_qa/med_qa_en_source/1.0.0/cfb3883fd412613f1938bbb3449a43e18bd2428b691726183a0d3c9b590f885d)\n"
     ]
    }
   ],
   "source": [
    "train_ds = load_dataset(DATASET_NAME, DATASET_CONFIG, split='train')"
   ]
  },
  {
   "cell_type": "code",
   "execution_count": 5,
   "id": "c891ee17-01cd-4092-bc74-d5717d114740",
   "metadata": {
    "tags": []
   },
   "outputs": [
    {
     "data": {
      "text/plain": [
       "{'meta_info': 'step2&3',\n",
       " 'question': 'A 23-year-old pregnant woman at 22 weeks gestation presents with burning upon urination. She states it started 1 day ago and has been worsening despite drinking more water and taking cranberry extract. She otherwise feels well and is followed by a doctor for her pregnancy. Her temperature is 97.7°F (36.5°C), blood pressure is 122/77 mmHg, pulse is 80/min, respirations are 19/min, and oxygen saturation is 98% on room air. Physical exam is notable for an absence of costovertebral angle tenderness and a gravid uterus. Which of the following is the best treatment for this patient?',\n",
       " 'answer_idx': 'E',\n",
       " 'answer': 'Nitrofurantoin',\n",
       " 'options': [{'key': 'A', 'value': 'Ampicillin'},\n",
       "  {'key': 'B', 'value': 'Ceftriaxone'},\n",
       "  {'key': 'C', 'value': 'Ciprofloxacin'},\n",
       "  {'key': 'D', 'value': 'Doxycycline'},\n",
       "  {'key': 'E', 'value': 'Nitrofurantoin'}]}"
      ]
     },
     "execution_count": 5,
     "metadata": {},
     "output_type": "execute_result"
    }
   ],
   "source": [
    "train_ds[0]"
   ]
  },
  {
   "cell_type": "code",
   "execution_count": 6,
   "id": "b52eb84a-2792-498a-af66-fa442fc94e4b",
   "metadata": {
    "tags": []
   },
   "outputs": [],
   "source": [
    "from mingpt.bpe import BPETokenizer"
   ]
  },
  {
   "cell_type": "code",
   "execution_count": 7,
   "id": "7d705118-7984-4bac-864c-23976355e1c2",
   "metadata": {
    "tags": []
   },
   "outputs": [],
   "source": [
    "bpe_tokenizer = BPETokenizer()"
   ]
  },
  {
   "cell_type": "code",
   "execution_count": 8,
   "id": "d1dae492-65f2-4bed-a14a-a17f59e8989d",
   "metadata": {
    "tags": []
   },
   "outputs": [
    {
     "data": {
      "text/plain": [
       "tensor([[   32,  2242,    12,  1941,    12,   727, 10423,  2415,   379,  2534,\n",
       "          2745, 47110, 10969,   351,  9482,  2402,  2956,  1883,    13,  1375,\n",
       "          2585,   340,  2067,   352,  1110,  2084,   290,   468,   587, 42373,\n",
       "          3805,  7722,   517,  1660,   290,  2263, 41286,  8396,  7925,    13,\n",
       "          1375,  4306,  5300,   880,   290,   318,  3940,   416,   257,  6253,\n",
       "           329,   607, 10241,    13,  2332,  5951,   318, 10111,    13,    22,\n",
       "          7200,    37,   357,  2623,    13,    20,  7200,    34,   828,  2910,\n",
       "          3833,   318, 19409,    14,  3324,  8085,    39,    70,    11, 19445,\n",
       "           318,  4019,    14,  1084,    11, 21483,   602,   389,   678,    14,\n",
       "          1084,    11,   290, 11863, 36275,   318,  9661,     4,   319,  2119,\n",
       "          1633,    13, 16331,  2814,   318, 12411,   329,   281,  8889,   286,\n",
       "          1575,  2502,   660, 24427,  9848, 15403,  1108,   290,   257,  9067,\n",
       "           312, 41303,    13,  9022,   286,   262,  1708,   318,   262,  1266,\n",
       "          3513,   329,   428,  5827,    30]])"
      ]
     },
     "execution_count": 8,
     "metadata": {},
     "output_type": "execute_result"
    }
   ],
   "source": [
    "bpe_tokenizer(train_ds[0]['question'])"
   ]
  },
  {
   "cell_type": "code",
   "execution_count": 9,
   "id": "b12118bd-a9ef-4735-9be5-ab153cc74bc2",
   "metadata": {
    "tags": []
   },
   "outputs": [
    {
     "name": "stdout",
     "output_type": "stream",
     "text": [
      "A\n",
      " 23\n",
      "-\n",
      "year\n",
      "-\n",
      "old\n",
      " pregnant\n",
      " woman\n",
      " at\n",
      " 22\n",
      " weeks\n",
      " gestation\n",
      " presents\n",
      " with\n",
      " burning\n",
      " upon\n",
      " urination\n",
      ".\n",
      " She\n",
      " states\n",
      " it\n",
      " started\n",
      " 1\n",
      " day\n",
      " ago\n",
      " and\n",
      " has\n",
      " been\n",
      " worsening\n",
      " despite\n",
      " drinking\n",
      " more\n",
      " water\n",
      " and\n",
      " taking\n",
      " cranberry\n",
      " extract\n",
      ".\n",
      " She\n",
      " otherwise\n",
      " feels\n",
      " well\n",
      " and\n",
      " is\n",
      " followed\n",
      " by\n",
      " a\n",
      " doctor\n",
      " for\n",
      " her\n",
      " pregnancy\n",
      ".\n",
      " Her\n",
      " temperature\n",
      " is\n",
      " 97\n",
      ".\n",
      "7\n",
      "°\n",
      "F\n",
      " (\n",
      "36\n",
      ".\n",
      "5\n",
      "°\n",
      "C\n",
      "),\n",
      " blood\n",
      " pressure\n",
      " is\n",
      " 122\n",
      "/\n",
      "77\n",
      " mmHg\n",
      ",\n",
      " pulse\n",
      " is\n",
      " 80\n",
      "/\n",
      "min\n",
      ",\n",
      " respirations\n",
      " are\n",
      " 19\n",
      "/\n",
      "min\n",
      ",\n",
      " and\n",
      " oxygen\n",
      " saturation\n",
      " is\n",
      " 98\n",
      "%\n",
      " on\n",
      " room\n",
      " air\n",
      ".\n",
      " Physical\n",
      " exam\n",
      " is\n",
      " notable\n",
      " for\n",
      " an\n",
      " absence\n",
      " of\n",
      " costovertebral\n",
      " angle\n",
      " tenderness\n",
      " and\n",
      " a\n",
      " gravid\n",
      " uterus\n",
      ".\n",
      " Which\n",
      " of\n",
      " the\n",
      " following\n",
      " is\n",
      " the\n",
      " best\n",
      " treatment\n",
      " for\n",
      " this\n",
      " patient\n",
      "?\n"
     ]
    }
   ],
   "source": [
    "results = bpe_tokenizer.encoder.encode_and_show_work(train_ds[0]['question'])\n",
    "# print(train_ds[0]['question'])\n",
    "for a in results['parts']:\n",
    "    print(a['token'])"
   ]
  },
  {
   "cell_type": "code",
   "execution_count": 10,
   "id": "a9105b35-b65b-44ca-84e2-03005d89e021",
   "metadata": {
    "tags": []
   },
   "outputs": [],
   "source": [
    "def encode_examples(example):\n",
    "    training_sentence = f\"{example['question']}\\nAnswer: {example['answer']}\\n\"\n",
    "    return bpe_tokenizer(training_sentence)[0]"
   ]
  },
  {
   "cell_type": "code",
   "execution_count": 11,
   "id": "2bdab74b-cd96-4b22-9902-03c49d951927",
   "metadata": {
    "tags": []
   },
   "outputs": [],
   "source": [
    "tokenizer_examples = [encode_examples(ex) for ex in train_ds]\n",
    "\n",
    "# I only want to keep examples longer than 128 tokens\n",
    "# I only want to use the last 129 tokens of each example\n",
    "tokenized_train = [ex[-129:] for ex in tokenizer_examples if len(ex) >= 129]"
   ]
  },
  {
   "cell_type": "code",
   "execution_count": 12,
   "id": "768ce216-7355-4cdc-846b-bb2105c94685",
   "metadata": {
    "tags": []
   },
   "outputs": [],
   "source": [
    "from torch.utils.data import Dataset\n",
    "\n",
    "class SimpleMedQADataset(Dataset):\n",
    "    def __init__(self, tokenized_examples):\n",
    "        self.tokenized_examples = tokenized_examples\n",
    "        \n",
    "    def __len__(self):\n",
    "        return len(self.tokenized_examples)\n",
    "    \n",
    "    def __getitem__(self, idx):\n",
    "        return self.tokenized_examples[idx][:-1], self.tokenized_examples[idx][1:]"
   ]
  },
  {
   "cell_type": "code",
   "execution_count": 13,
   "id": "8f6738c2-942c-45b1-b0c1-1e8f4a3ed677",
   "metadata": {
    "tags": []
   },
   "outputs": [],
   "source": [
    "train_dataset = SimpleMedQADataset(tokenized_train)"
   ]
  },
  {
   "cell_type": "code",
   "execution_count": 15,
   "id": "933d304f-63e7-48d3-a0d3-66408672129f",
   "metadata": {
    "tags": []
   },
   "outputs": [
    {
     "name": "stdout",
     "output_type": "stream",
     "text": [
      "number of parameters: 123.85M\n"
     ]
    }
   ],
   "source": [
    "from mingpt.model import GPT\n",
    "\n",
    "model_config = GPT.get_default_config()\n",
    "model_config.model_type = 'gpt2'\n",
    "model_config.vocab_size = 50257\n",
    "model_config.block_size = 256\n",
    "model = GPT(model_config)"
   ]
  },
  {
   "cell_type": "code",
   "execution_count": 16,
   "id": "c2077549-07e7-4d11-8063-b69080a0a215",
   "metadata": {
    "tags": []
   },
   "outputs": [
    {
     "name": "stdout",
     "output_type": "stream",
     "text": [
      "running on device cpu\n"
     ]
    }
   ],
   "source": [
    "from mingpt.trainer import Trainer\n",
    "\n",
    "train_config = Trainer.get_default_config()\n",
    "train_config.learning_rate = 5e-4 # the model we're using is so small that we can go a bit faster\n",
    "train_config.max_iters = 2000\n",
    "train_config.num_workers = 0\n",
    "trainer = Trainer(train_config, model, train_dataset)"
   ]
  },
  {
   "cell_type": "code",
   "execution_count": null,
   "id": "282c1305-1d8b-4788-8417-41f207f3e758",
   "metadata": {
    "tags": []
   },
   "outputs": [
    {
     "name": "stdout",
     "output_type": "stream",
     "text": [
      "iter_dt 0.00ms; iter 0: train loss 10.97411\n",
      "iter_dt 60800.91ms; iter 10: train loss 6.92168\n",
      "iter_dt 54592.10ms; iter 20: train loss 6.47418\n",
      "iter_dt 58699.42ms; iter 30: train loss 6.10319\n",
      "iter_dt 64744.87ms; iter 40: train loss 5.61564\n",
      "iter_dt 62520.68ms; iter 50: train loss 5.25659\n",
      "iter_dt 57952.78ms; iter 60: train loss 4.84473\n",
      "iter_dt 60909.48ms; iter 70: train loss 4.51911\n",
      "iter_dt 58607.89ms; iter 80: train loss 4.47657\n",
      "iter_dt 58216.79ms; iter 90: train loss 4.31750\n",
      "iter_dt 62382.39ms; iter 100: train loss 4.20844\n",
      "iter_dt 59524.22ms; iter 110: train loss 3.79563\n",
      "iter_dt 58650.43ms; iter 120: train loss 3.84761\n",
      "iter_dt 59997.55ms; iter 130: train loss 3.56417\n",
      "iter_dt 68485.96ms; iter 140: train loss 3.73688\n"
     ]
    }
   ],
   "source": [
    "def batch_end_callback(trainer):\n",
    "    if trainer.iter_num % 10 == 0:\n",
    "        print(f\"iter_dt {trainer.iter_dt * 1000:.2f}ms; iter {trainer.iter_num}: train loss {trainer.loss.item():.5f}\")\n",
    "trainer.set_callback('on_batch_end', batch_end_callback)\n",
    "\n",
    "trainer.run()"
   ]
  },
  {
   "cell_type": "code",
   "execution_count": null,
   "id": "51584155-f5fb-42e2-a05d-14f1e6755bb9",
   "metadata": {
    "tags": []
   },
   "outputs": [],
   "source": [
    "idx = 80\n",
    "inputs = bpe_tokenizer(train_ds[idx]['question']+\"\\nAnswer: \")\n",
    "outputs = model.generate(inputs, max_new_tokens=20, temperature=1.1, top_k=20, do_sample=True)\n",
    "\n",
    "try:\n",
    "    offset = list(outputs[0][-20:]).index(198)\n",
    "except:\n",
    "    offset = -1"
   ]
  },
  {
   "cell_type": "code",
   "execution_count": null,
   "id": "dcceb9bb-e863-4ee5-be4b-858c5583bbc0",
   "metadata": {
    "tags": []
   },
   "outputs": [],
   "source": [
    "print(train_ds[idx]['question'])\n",
    "bpe_tokenizer.decode(outputs[0][len(inputs[0]):len(inputs[0])+offset])"
   ]
  },
  {
   "cell_type": "code",
   "execution_count": 183,
   "id": "4a6f7854-84fd-47f4-9424-c8089d1f53ba",
   "metadata": {
    "tags": []
   },
   "outputs": [
    {
     "data": {
      "text/plain": [
       "1"
      ]
     },
     "execution_count": 183,
     "metadata": {},
     "output_type": "execute_result"
    }
   ],
   "source": [
    "len(inputs)"
   ]
  },
  {
   "cell_type": "code",
   "execution_count": 122,
   "id": "8a6a1101-5fda-4d67-86ce-b14586033c4f",
   "metadata": {
    "tags": []
   },
   "outputs": [
    {
     "data": {
      "text/plain": [
       "tensor([[198]])"
      ]
     },
     "execution_count": 122,
     "metadata": {},
     "output_type": "execute_result"
    }
   ],
   "source": [
    "bpe_tokenizer(\"\\n\")"
   ]
  },
  {
   "cell_type": "code",
   "execution_count": 124,
   "id": "4fed7f8a-fd38-435b-9613-823481336f19",
   "metadata": {
    "tags": []
   },
   "outputs": [
    {
     "data": {
      "text/plain": [
       "37"
      ]
     },
     "execution_count": 124,
     "metadata": {},
     "output_type": "execute_result"
    }
   ],
   "source": [
    "list(outputs[0][-50:]).index(198)"
   ]
  },
  {
   "cell_type": "code",
   "execution_count": null,
   "id": "5189b175-ab8d-475f-8ec0-d5440cffd53f",
   "metadata": {},
   "outputs": [],
   "source": []
  }
 ],
 "metadata": {
  "kernelspec": {
   "display_name": "Python 3 (ipykernel)",
   "language": "python",
   "name": "python3"
  },
  "language_info": {
   "codemirror_mode": {
    "name": "ipython",
    "version": 3
   },
   "file_extension": ".py",
   "mimetype": "text/x-python",
   "name": "python",
   "nbconvert_exporter": "python",
   "pygments_lexer": "ipython3",
   "version": "3.9.18"
  }
 },
 "nbformat": 4,
 "nbformat_minor": 5
}
