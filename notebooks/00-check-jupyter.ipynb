{
 "cells": [
  {
   "cell_type": "code",
   "execution_count": null,
   "id": "d24105d2-1622-4a28-b2a1-db28029fc4e9",
   "metadata": {
    "tags": []
   },
   "outputs": [],
   "source": [
    "import os\n",
    "\n",
    "# List of libraries to check for import\n",
    "libraries_to_check = [\n",
    "    \"torch\",\n",
    "    \"transformers\",\n",
    "    \"datasets\",\n",
    "    \"mediapy\",\n",
    "    \"mingpt\",\n",
    "    \"torch_spatial_kmeans\",\n",
    "    \"ffmpeg\"\n",
    "]\n",
    "\n",
    "successful_imports = []\n",
    "\n",
    "# Check and print the results for each library\n",
    "for lib_name in libraries_to_check:\n",
    "    try:\n",
    "        __import__(lib_name)\n",
    "        print(f\"Success: {lib_name} library found\")\n",
    "        successful_imports.append(lib_name)\n",
    "    except ImportError:\n",
    "        print(f\"WARNING: {lib_name} not found\")\n",
    "\n",
    "print()\n",
    "\n",
    "# Check GPU availability in Torch\n",
    "\n",
    "if \"torch\" in successful_imports:\n",
    "    import torch\n",
    "    if  torch.cuda.is_available():\n",
    "        print(\"Success: GPU is available in Torch\")\n",
    "    else:\n",
    "        print(\"WARNING: GPU is not available in Torch\")\n",
    "\n",
    "# Function to check if a video can be loaded successfully with mediapy\n",
    "def check_video_load(video_path):\n",
    "    import mediapy\n",
    "\n",
    "    try:\n",
    "        with mediapy.VideoReader(video_path) as reader:\n",
    "            for frame in reader:\n",
    "                break\n",
    "\n",
    "        return True\n",
    "    except Exception as e:\n",
    "        print(e)\n",
    "        return False\n",
    "\n",
    "# Print the result of loading the video\n",
    "\n",
    "if \"mediapy\" in successful_imports:\n",
    "    VIDEO_PATH = os.getenv(\"EXAMPLE_FILE\")\n",
    "\n",
    "    if check_video_load(VIDEO_PATH):\n",
    "        print(f\"Video at '{VIDEO_PATH}' loaded successfully with mediapy\")\n",
    "    else:\n",
    "        print(f\"WARNING: Failed to load video at '{VIDEO_PATH}' with mediapy\")\n",
    "else:\n",
    "    print(\"WARNING: mediapy not found so skipping video load check\")\n"
   ]
  }
 ],
 "metadata": {
  "kernelspec": {
   "display_name": "Python 3 (ipykernel)",
   "language": "python",
   "name": "python3"
  },
  "language_info": {
   "codemirror_mode": {
    "name": "ipython",
    "version": 3
   },
   "file_extension": ".py",
   "mimetype": "text/x-python",
   "name": "python",
   "nbconvert_exporter": "python",
   "pygments_lexer": "ipython3",
   "version": "3.9.18"
  }
 },
 "nbformat": 4,
 "nbformat_minor": 5
}
